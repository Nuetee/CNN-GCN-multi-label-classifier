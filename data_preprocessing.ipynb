{
 "cells": [
  {
   "cell_type": "code",
   "execution_count": 1,
   "metadata": {},
   "outputs": [],
   "source": [
    "import os\n",
    "import random\n",
    "from shutil import copyfile\n",
    "import pandas as pd\n",
    "import numpy as np\n",
    "import pickle\n",
    "import tqdm"
   ]
  },
  {
   "cell_type": "code",
   "execution_count": 2,
   "metadata": {},
   "outputs": [],
   "source": [
    "# file 이름 형태: id+object_label1,object_label2+style_label1,style_label2+material_label1,material_label2.jpg\n",
    "def read_data_from_file(file_path):\n",
    "  file_list = os.listdir(file_path)\n",
    "  ids = []\n",
    "  artwork_labels_list = [[] for _ in range(3)]\n",
    "\n",
    "  for file_name in tqdm.tqdm(file_list):\n",
    "    # .jpg 제거\n",
    "    file_name = file_name[0: len(file_name) - 4]\n",
    "    parsing_list = file_name.split('+')\n",
    "    if (parsing_list[0] == ''):\n",
    "        continue\n",
    "    ids.append(parsing_list[0])\n",
    "    del parsing_list[0]\n",
    "\n",
    "    for i, label in enumerate(parsing_list):\n",
    "        label = label.lower()\n",
    "        label_list = label.split(', ')\n",
    "        label_list = list(filter(None, label_list))\n",
    "        artwork_labels_list[i].append(label_list)\n",
    "\n",
    "  artworks = pd.DataFrame(\n",
    "      {\"ID\": ids, \"object_labels\": artwork_labels_list[0], \"style_labels\": artwork_labels_list[1], \"material_labels\": artwork_labels_list[2], \"File\": file_list})\n",
    "  artworks.dropna()\n",
    "\n",
    "  return artworks"
   ]
  },
  {
   "cell_type": "code",
   "execution_count": 3,
   "metadata": {},
   "outputs": [
    {
     "name": "stderr",
     "output_type": "stream",
     "text": [
      "100%|██████████| 177961/177961 [00:00<00:00, 283829.84it/s]\n"
     ]
    }
   ],
   "source": [
    "root_path = './database_all'\n",
    "artworks = read_data_from_file(root_path)\n",
    "with open(\"artworks\", \"wb\") as file:\n",
    "    pickle.dump(artworks, file)"
   ]
  },
  {
   "cell_type": "code",
   "execution_count": 3,
   "metadata": {},
   "outputs": [],
   "source": [
    "source = './database_all'\n",
    "target = './database_test_2'\n",
    "\n",
    "ldir = os.listdir('./database_all')\n",
    "\n",
    "nums = 5000\n",
    "\n",
    "selected = random.sample(ldir, nums)\n",
    "\n",
    "for fl in selected:\n",
    "    copyfile(f\"./{source}/{fl}\", f\"./{target}/{fl}\")"
   ]
  },
  {
   "cell_type": "code",
   "execution_count": 4,
   "metadata": {},
   "outputs": [
    {
     "name": "stderr",
     "output_type": "stream",
     "text": [
      "100%|██████████| 5000/5000 [00:00<00:00, 333315.11it/s]\n"
     ]
    }
   ],
   "source": [
    "test_path = './database_test_2'\n",
    "test = read_data_from_file(test_path)\n"
   ]
  },
  {
   "cell_type": "code",
   "execution_count": 5,
   "metadata": {},
   "outputs": [],
   "source": [
    "with open(\"test_2\", \"wb\") as file:\n",
    "    pickle.dump(test, file)"
   ]
  },
  {
   "cell_type": "code",
   "execution_count": null,
   "metadata": {},
   "outputs": [
    {
     "name": "stdout",
     "output_type": "stream",
     "text": [
      "          ID        object_labels      style_labels material_labels  \\\n",
      "0     100007           [abstract]    [abstract art]              []   \n",
      "1     100027      [self-portrait]     [romanticism]              []   \n",
      "2     100030     [genre painting]          [cubism]              []   \n",
      "3     100114          [cityscape]     [romanticism]              []   \n",
      "4     100170  [symbolic painting]      [surrealism]           [oil]   \n",
      "...      ...                  ...               ...             ...   \n",
      "4995   99957           [interior]   [hyper-realism]              []   \n",
      "4996   99963         [still life]   [hyper-realism]              []   \n",
      "4997   99971           [abstract]  [conceptual art]              []   \n",
      "4998   99972       [installation]  [conceptual art]              []   \n",
      "4999   99980         [figurative]  [conceptual art]              []   \n",
      "\n",
      "                                             File  \n",
      "0               100007+abstract+Abstract Art+.jpg  \n",
      "1           100027+self-portrait+Romanticism+.jpg  \n",
      "2               100030+genre painting+Cubism+.jpg  \n",
      "3               100114+cityscape+Romanticism+.jpg  \n",
      "4     100170+symbolic painting+Surrealism+oil.jpg  \n",
      "...                                           ...  \n",
      "4995            99957+interior+Hyper-Realism+.jpg  \n",
      "4996          99963+still life+Hyper-Realism+.jpg  \n",
      "4997           99971+abstract+Conceptual Art+.jpg  \n",
      "4998       99972+installation+Conceptual Art+.jpg  \n",
      "4999         99980+figurative+Conceptual Art+.jpg  \n",
      "\n",
      "[5000 rows x 5 columns]\n"
     ]
    }
   ],
   "source": [
    "with open(\"test\", \"rb\") as file:\n",
    "    artworks = pickle.load(file)\n",
    "print(artworks)"
   ]
  }
 ],
 "metadata": {
  "kernelspec": {
   "display_name": "Python 3",
   "language": "python",
   "name": "python3"
  },
  "language_info": {
   "codemirror_mode": {
    "name": "ipython",
    "version": 3
   },
   "file_extension": ".py",
   "mimetype": "text/x-python",
   "name": "python",
   "nbconvert_exporter": "python",
   "pygments_lexer": "ipython3",
   "version": "3.10.0"
  },
  "orig_nbformat": 4
 },
 "nbformat": 4,
 "nbformat_minor": 2
}
