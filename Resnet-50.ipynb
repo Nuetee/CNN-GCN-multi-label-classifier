{
 "cells": [
  {
   "cell_type": "code",
   "execution_count": null,
   "metadata": {},
   "outputs": [],
   "source": [
    "import tensorflow as tf\n",
    "from keras.preprocessing.image import ImageDataGenerator\n",
    "from keras.models import Sequential, Model\n",
    "from keras.layers import Conv2D, MaxPooling2D, Input, BatchNormalization\n",
    "from keras.layers import BatchNormalization, Conv2D, Activation, Dense, GlobalAveragePooling2D, MaxPooling2D, ZeroPadding2D, Add\n",
    "from keras import optimizers, initializers, regularizers, metrics\n",
    "from keras import backend as K\n",
    "\n",
    "import os\n",
    "import shutil\n",
    "import numpy as np\n",
    "import math\n",
    "import matplotlib.pyplot as plt"
   ]
  },
  {
   "cell_type": "code",
   "execution_count": null,
   "metadata": {},
   "outputs": [],
   "source": [
    "input_tensor = Input(shape=(224, 224, 3), dtype='float32', name='input')\n",
    "\n",
    "def conv1_layer(x):\n",
    "    x = ZeroPadding2D(padding=(3, 3))(x)\n",
    "    x = Conv2D(64, (7, 7), strides=(2, 2))(x)\n",
    "    x = BatchNormalization()(x)\n",
    "    x = Activation('relu')(x)\n",
    "    x = ZeroPadding2D(padding=(1,1))(x)\n",
    "\n",
    "    return x\n",
    "\n",
    "def conv2_layer(x):\n",
    "    x = MaxPooling2D((3, 3), 2)(x)\n",
    "    shortcut = x\n",
    "\n",
    "    for i in range(3):\n",
    "        if (i == 0):\n",
    "            shortcut = Conv2D(256, (1, 1), strides=(1, 1), padding='valid')(shortcut)\n",
    "            shortcut = BatchNormalization()(shortcut)\n",
    "        \n",
    "        x = Conv2D(64, (1, 1), strides=(1, 1), padding='valid')(x)\n",
    "        x = BatchNormalization()(x)\n",
    "        x = Activation('relu')(x)\n",
    "\n",
    "        x = Conv2D(64, (3, 3), strides=(1, 1), padding='same')(x)\n",
    "        x = BatchNormalization()(x)\n",
    "        x = Activation('relu')(x)\n",
    "\n",
    "        x = Conv2D(256, (1, 1), strides=(1, 1), padding='valid')(x)\n",
    "        x = BatchNormalization()(x)\n",
    "        x = Add()([x, shortcut])\n",
    "        x = Activation('relu')(x)\n",
    "\n",
    "        shortcut = x\n",
    "        \n",
    "    return x\n",
    "\n",
    "def conv3_layer(x):\n",
    "    for i in range (4):\n",
    "        if (i == 0):\n",
    "            shortcut = BatchNormalization()(shortcut)\n",
    "            shortcut = x\n",
    "        \n",
    "        x = Conv2D(64, (1, 1), strides=(1, 1), padding='valid')(x)\n",
    "        x = BatchNormalization()(x)\n",
    "        x = Activation('relu')(x)\n",
    "\n",
    "        x = Conv2D(64, (3, 3), strides=(1, 1), padding='same')(x)\n",
    "        x = BatchNormalization()(x)\n",
    "        x = Activation('relu')(x)\n",
    "\n",
    "        x = Conv2D(256, (1, 1), strides=(1, 1), padding='valid')(x)\n",
    "        x = BatchNormalization()(x)\n",
    "\n",
    "        x = Add()([x, shortcut])(x)\n",
    "        x = Activation('relu')(x)\n",
    "\n",
    "        shortcut = x\n",
    "\n",
    "    return x\n",
    "            \n",
    "\n",
    "\n"
   ]
  }
 ],
 "metadata": {
  "kernelspec": {
   "display_name": "Python 3.10.0 64-bit",
   "language": "python",
   "name": "python3"
  },
  "language_info": {
   "name": "python",
   "version": "3.10.0"
  },
  "orig_nbformat": 4,
  "vscode": {
   "interpreter": {
    "hash": "c8f9bc9b1a393cc7b2412be80d4bb029fa1a63170f93c462609a508130b50d84"
   }
  }
 },
 "nbformat": 4,
 "nbformat_minor": 2
}
