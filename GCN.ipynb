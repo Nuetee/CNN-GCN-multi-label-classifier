{
 "cells": [
  {
   "cell_type": "code",
   "execution_count": 28,
   "metadata": {},
   "outputs": [],
   "source": [
    "import tensorflow as tf\n",
    "import pandas as pd\n",
    "from keras.preprocessing.image import ImageDataGenerator\n",
    "from keras.models import Sequential, Model\n",
    "from keras.layers import BatchNormalization, Conv2D, Activation, Dense, GlobalAveragePooling2D, MaxPooling2D, ZeroPadding2D, Add, Input, Flatten\n",
    "\n",
    "import time\n",
    "import os\n",
    "import numpy as np\n",
    "from sklearn.preprocessing import MultiLabelBinarizer\n",
    "import matplotlib.pyplot as plt\n",
    "import matplotlib.style as style\n",
    "import seaborn as sns\n",
    "import cv2\n",
    "from utils import *\n",
    "\n",
    "BATCH_SIZE = 256  # Big enough to measure an F1-score\n",
    "# Adapt preprocessing and prefetching dynamically\n",
    "AUTOTUNE = tf.data.experimental.AUTOTUNE\n",
    "SHUFFLE_BUFFER_SIZE = 8192\n"
   ]
  },
  {
   "cell_type": "code",
   "execution_count": 29,
   "metadata": {},
   "outputs": [],
   "source": [
    "dir_path = './database_test'\n",
    "\n",
    "file_list = os.listdir(dir_path)\n",
    "ID = []\n",
    "Labels = []\n",
    "\n",
    "for file_name in file_list:\n",
    "    file_name.encode('ISO-8859-1')\n",
    "    label_list = file_name.split('+')\n",
    "    if (label_list[0] == ''):\n",
    "        continue\n",
    "    ID.append(label_list[0])\n",
    "    del label_list[0]\n",
    "    # .jpg 제거\n",
    "    label_list.pop()\n",
    "\n",
    "    valid_label_list = []\n",
    "    for label in label_list:\n",
    "        label = label.lower()\n",
    "        labels = label.split(', ')\n",
    "        valid_label_list.extend(labels)\n",
    "\n",
    "    while True:\n",
    "        try:\n",
    "            valid_label_list.remove('')\n",
    "        except ValueError:\n",
    "            break\n",
    "\n",
    "    Labels.append(valid_label_list)\n",
    "\n",
    "artworks = pd.DataFrame({\"ID\": ID, \"Labels\": Labels, \"File\": file_list})\n",
    "artworks.dropna()\n",
    "\n",
    "# Get label frequencies in descending order\n",
    "label_freq = artworks['Labels'].apply(\n",
    "    lambda s: [x for x in s]).explode().value_counts().sort_values(ascending=False)\n"
   ]
  },
  {
   "cell_type": "code",
   "execution_count": 30,
   "metadata": {},
   "outputs": [
    {
     "name": "stdout",
     "output_type": "stream",
     "text": [
      "Number of used labels: 42\n",
      "Number of ignored labels: 36\n"
     ]
    },
    {
     "data": {
      "text/html": [
       "<div>\n",
       "<style scoped>\n",
       "    .dataframe tbody tr th:only-of-type {\n",
       "        vertical-align: middle;\n",
       "    }\n",
       "\n",
       "    .dataframe tbody tr th {\n",
       "        vertical-align: top;\n",
       "    }\n",
       "\n",
       "    .dataframe thead th {\n",
       "        text-align: right;\n",
       "    }\n",
       "</style>\n",
       "<table border=\"1\" class=\"dataframe\">\n",
       "  <thead>\n",
       "    <tr style=\"text-align: right;\">\n",
       "      <th></th>\n",
       "      <th>ID</th>\n",
       "      <th>Labels</th>\n",
       "      <th>File</th>\n",
       "    </tr>\n",
       "  </thead>\n",
       "  <tbody>\n",
       "    <tr>\n",
       "      <th>1</th>\n",
       "      <td>100</td>\n",
       "      <td>[still life, naïve art (primitivism)]</td>\n",
       "      <td>100+still life+Naïve Art (Primitivism)+oil, co...</td>\n",
       "    </tr>\n",
       "    <tr>\n",
       "      <th>2</th>\n",
       "      <td>1000</td>\n",
       "      <td>[religious painting, baroque]</td>\n",
       "      <td>1000+religious painting+Baroque, Tenebrism+oil...</td>\n",
       "    </tr>\n",
       "    <tr>\n",
       "      <th>3</th>\n",
       "      <td>10000</td>\n",
       "      <td>[genre painting, post-impressionism]</td>\n",
       "      <td>10000+genre painting+Post-Impressionism+oil, w...</td>\n",
       "    </tr>\n",
       "    <tr>\n",
       "      <th>4</th>\n",
       "      <td>100000</td>\n",
       "      <td>[abstract, abstract art]</td>\n",
       "      <td>100000+abstract+Abstract Art+.jpg</td>\n",
       "    </tr>\n",
       "    <tr>\n",
       "      <th>5</th>\n",
       "      <td>100001</td>\n",
       "      <td>[abstract, abstract art]</td>\n",
       "      <td>100001+abstract+Abstract Art+.jpg</td>\n",
       "    </tr>\n",
       "    <tr>\n",
       "      <th>6</th>\n",
       "      <td>100002</td>\n",
       "      <td>[abstract, abstract art]</td>\n",
       "      <td>100002+abstract+Abstract Art+.jpg</td>\n",
       "    </tr>\n",
       "    <tr>\n",
       "      <th>7</th>\n",
       "      <td>100003</td>\n",
       "      <td>[abstract, abstract art]</td>\n",
       "      <td>100003+abstract+Abstract Art+.jpg</td>\n",
       "    </tr>\n",
       "    <tr>\n",
       "      <th>8</th>\n",
       "      <td>100004</td>\n",
       "      <td>[abstract, abstract art]</td>\n",
       "      <td>100004+abstract+Abstract Art+.jpg</td>\n",
       "    </tr>\n",
       "    <tr>\n",
       "      <th>9</th>\n",
       "      <td>100005</td>\n",
       "      <td>[abstract, abstract art]</td>\n",
       "      <td>100005+abstract+Abstract Art+.jpg</td>\n",
       "    </tr>\n",
       "    <tr>\n",
       "      <th>10</th>\n",
       "      <td>100006</td>\n",
       "      <td>[abstract, abstract art]</td>\n",
       "      <td>100006+abstract+Abstract Art+.jpg</td>\n",
       "    </tr>\n",
       "  </tbody>\n",
       "</table>\n",
       "</div>"
      ],
      "text/plain": [
       "        ID                                 Labels  \\\n",
       "1      100  [still life, naïve art (primitivism)]   \n",
       "2     1000          [religious painting, baroque]   \n",
       "3    10000   [genre painting, post-impressionism]   \n",
       "4   100000               [abstract, abstract art]   \n",
       "5   100001               [abstract, abstract art]   \n",
       "6   100002               [abstract, abstract art]   \n",
       "7   100003               [abstract, abstract art]   \n",
       "8   100004               [abstract, abstract art]   \n",
       "9   100005               [abstract, abstract art]   \n",
       "10  100006               [abstract, abstract art]   \n",
       "\n",
       "                                                 File  \n",
       "1   100+still life+Naïve Art (Primitivism)+oil, co...  \n",
       "2   1000+religious painting+Baroque, Tenebrism+oil...  \n",
       "3   10000+genre painting+Post-Impressionism+oil, w...  \n",
       "4                   100000+abstract+Abstract Art+.jpg  \n",
       "5                   100001+abstract+Abstract Art+.jpg  \n",
       "6                   100002+abstract+Abstract Art+.jpg  \n",
       "7                   100003+abstract+Abstract Art+.jpg  \n",
       "8                   100004+abstract+Abstract Art+.jpg  \n",
       "9                   100005+abstract+Abstract Art+.jpg  \n",
       "10                  100006+abstract+Abstract Art+.jpg  "
      ]
     },
     "execution_count": 30,
     "metadata": {},
     "output_type": "execute_result"
    }
   ],
   "source": [
    "# Create a list of rare labels\n",
    "# rare = list(label_freq[label_freq < 50].index)\n",
    "rare = list(label_freq[label_freq < 25].index)\n",
    "print(\"Number of used labels:\", len(label_freq) - len(rare))\n",
    "print(\"Number of ignored labels:\", len(rare))\n",
    "label_number = len(label_freq) - len(rare)\n",
    "\n",
    "artworks['Labels'] = artworks['Labels'].apply(\n",
    "    lambda s: [x for x in s if x not in rare])\n",
    "artworks['Labels'] = artworks['Labels'].apply(\n",
    "    lambda s: s if len(s) != 0 else np.nan)\n",
    "\n",
    "artworks.dropna(inplace=True)\n",
    "artworks.head(10)\n"
   ]
  },
  {
   "cell_type": "code",
   "execution_count": 31,
   "metadata": {},
   "outputs": [
    {
     "data": {
      "text/plain": [
       "['./database_test\\\\101012+landscape+Nanga (Bunjinga)+.jpg',\n",
       " './database_test\\\\100060+abstract+Abstract Expressionism+.jpg',\n",
       " './database_test\\\\101022+landscape+Nanga (Bunjinga)+.jpg']"
      ]
     },
     "execution_count": 31,
     "metadata": {},
     "output_type": "execute_result"
    }
   ],
   "source": [
    "from sklearn.model_selection import train_test_split\n",
    "# 파일 경로 및 label 집합으로 train data와 valid data parsing\n",
    "X_train, X_val, y_train, y_val = train_test_split(\n",
    "    artworks['File'], artworks['Labels'], test_size=0.1, random_state=23)\n",
    "\n",
    "X_train = [os.path.join('./database_test', str(f)) for f in X_train]\n",
    "X_val = [os.path.join('./database_test', str(f)) for f in X_val]\n",
    "X_train[:3]\n"
   ]
  },
  {
   "cell_type": "code",
   "execution_count": null,
   "metadata": {},
   "outputs": [],
   "source": [
    "# MultiLabelBinarizer로 다중 label 이진화\n",
    "mlb = MultiLabelBinarizer()\n",
    "mlb.fit(artworks['Labels'])\n",
    "\n",
    "# Loop over all labels and show them\n",
    "N_LABELS = len(mlb.classes_)\n",
    "for (i, label) in enumerate(mlb.classes_):\n",
    "    print(\"{}. {}\".format(i, label))\n",
    "\n",
    "y_train_bin = mlb.transform(y_train)\n",
    "mlb.fit(y_val)\n",
    "y_val_bin = mlb.transform(y_val)\n"
   ]
  },
  {
   "attachments": {},
   "cell_type": "markdown",
   "metadata": {},
   "source": [
    "for _ 는 변수없이 반복문 수행"
   ]
  },
  {
   "cell_type": "code",
   "execution_count": null,
   "metadata": {},
   "outputs": [],
   "source": [
    "node_df = pd.DataFrame(columns=['class'])\n",
    "for label in mlb.classes:\n",
    "  node_df = node_df.append(pd.DataFrame[[label]], columns=['class'])\n",
    "print(node_df)\n"
   ]
  },
  {
   "cell_type": "code",
   "execution_count": null,
   "metadata": {},
   "outputs": [],
   "source": [
    "adj =[[0 for _ in range(N_LABELS)] for _ in range(N_LABELS)]\n",
    "for i in range(N_LABELS):\n",
    "  adj[i][i] = len(y_train_bin)\n",
    "\n",
    "for label_list in y_train_bin:\n",
    "  valid_label_list = []\n",
    "  for idx, label in enumerate(label_list):\n",
    "    if label == 1:\n",
    "      valid_label_list.append(idx)\n",
    "  for i in valid_label_list:\n",
    "    for j in valid_label_list:\n",
    "      if i != j:\n",
    "        adj[i][j] += 1\n",
    "\n",
    "\n",
    "print(adj)\n"
   ]
  },
  {
   "cell_type": "code",
   "execution_count": null,
   "metadata": {},
   "outputs": [],
   "source": []
  },
  {
   "cell_type": "code",
   "execution_count": null,
   "metadata": {},
   "outputs": [],
   "source": [
    "import tensorflow_gnn as tfgnn\n",
    "\n",
    "graph_tensor = tfgnn.GraphTensor.from_pieces(\n",
    "    node_sets= {\n",
    "    \n",
    "    }\n",
    ")"
   ]
  }
 ],
 "metadata": {
  "kernelspec": {
   "display_name": "Python 3",
   "language": "python",
   "name": "python3"
  },
  "language_info": {
   "codemirror_mode": {
    "name": "ipython",
    "version": 3
   },
   "file_extension": ".py",
   "mimetype": "text/x-python",
   "name": "python",
   "nbconvert_exporter": "python",
   "pygments_lexer": "ipython3",
   "version": "3.10.0"
  },
  "orig_nbformat": 4,
  "vscode": {
   "interpreter": {
    "hash": "c8f9bc9b1a393cc7b2412be80d4bb029fa1a63170f93c462609a508130b50d84"
   }
  }
 },
 "nbformat": 4,
 "nbformat_minor": 2
}
