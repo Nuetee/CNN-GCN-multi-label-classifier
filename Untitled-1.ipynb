{
 "cells": [
  {
   "cell_type": "code",
   "execution_count": 1,
   "metadata": {},
   "outputs": [
    {
     "ename": "ModuleNotFoundError",
     "evalue": "No module named 'matplotlib'",
     "output_type": "error",
     "traceback": [
      "\u001b[1;31m---------------------------------------------------------------------------\u001b[0m",
      "\u001b[1;31mModuleNotFoundError\u001b[0m                       Traceback (most recent call last)",
      "\u001b[1;32mc:\\Users\\이성준\\OneDrive - skku.edu\\바탕 화면\\CNN-GCN\\Untitled-1.ipynb 셀 1\u001b[0m in \u001b[0;36m<cell line: 12>\u001b[1;34m()\u001b[0m\n\u001b[0;32m     <a href='vscode-notebook-cell:/c%3A/Users/%EC%9D%B4%EC%84%B1%EC%A4%80/OneDrive%20-%20skku.edu/%EB%B0%94%ED%83%95%20%ED%99%94%EB%A9%B4/CNN-GCN/Untitled-1.ipynb#W1sZmlsZQ%3D%3D?line=9'>10</a>\u001b[0m \u001b[39mimport\u001b[39;00m \u001b[39mnumpy\u001b[39;00m \u001b[39mas\u001b[39;00m \u001b[39mnp\u001b[39;00m\n\u001b[0;32m     <a href='vscode-notebook-cell:/c%3A/Users/%EC%9D%B4%EC%84%B1%EC%A4%80/OneDrive%20-%20skku.edu/%EB%B0%94%ED%83%95%20%ED%99%94%EB%A9%B4/CNN-GCN/Untitled-1.ipynb#W1sZmlsZQ%3D%3D?line=10'>11</a>\u001b[0m \u001b[39mimport\u001b[39;00m \u001b[39mmath\u001b[39;00m\n\u001b[1;32m---> <a href='vscode-notebook-cell:/c%3A/Users/%EC%9D%B4%EC%84%B1%EC%A4%80/OneDrive%20-%20skku.edu/%EB%B0%94%ED%83%95%20%ED%99%94%EB%A9%B4/CNN-GCN/Untitled-1.ipynb#W1sZmlsZQ%3D%3D?line=11'>12</a>\u001b[0m \u001b[39mimport\u001b[39;00m \u001b[39mmatplotlib\u001b[39;00m\u001b[39m.\u001b[39;00m\u001b[39mpyplot\u001b[39;00m \u001b[39mas\u001b[39;00m \u001b[39mplt\u001b[39;00m\n\u001b[0;32m     <a href='vscode-notebook-cell:/c%3A/Users/%EC%9D%B4%EC%84%B1%EC%A4%80/OneDrive%20-%20skku.edu/%EB%B0%94%ED%83%95%20%ED%99%94%EB%A9%B4/CNN-GCN/Untitled-1.ipynb#W1sZmlsZQ%3D%3D?line=13'>14</a>\u001b[0m BATCH_SIZE \u001b[39m=\u001b[39m \u001b[39m256\u001b[39m  \u001b[39m# Big enough to measure an F1-score\u001b[39m\n\u001b[0;32m     <a href='vscode-notebook-cell:/c%3A/Users/%EC%9D%B4%EC%84%B1%EC%A4%80/OneDrive%20-%20skku.edu/%EB%B0%94%ED%83%95%20%ED%99%94%EB%A9%B4/CNN-GCN/Untitled-1.ipynb#W1sZmlsZQ%3D%3D?line=14'>15</a>\u001b[0m \u001b[39m# Adapt preprocessing and prefetching dynamically\u001b[39m\n",
      "\u001b[1;31mModuleNotFoundError\u001b[0m: No module named 'matplotlib'"
     ]
    }
   ],
   "source": [
    "import tensorflow as tf\n",
    "from keras.preprocessing.image import ImageDataGenerator\n",
    "from keras.models import Sequential, Model\n",
    "from keras.layers import BatchNormalization, Conv2D, Activation, Dense, GlobalAveragePooling2D, MaxPooling2D, ZeroPadding2D, Add, Input, Flatten\n",
    "from keras import optimizers, initializers, regularizers, metrics\n",
    "from keras import backend as K\n",
    "\n",
    "import os\n",
    "import shutil\n",
    "import numpy as np\n",
    "import math\n",
    "import matplotlib.pyplot as plt\n",
    "\n",
    "BATCH_SIZE = 256  # Big enough to measure an F1-score\n",
    "# Adapt preprocessing and prefetching dynamically\n",
    "AUTOTUNE = tf.data.experimental.AUTOTUNE\n",
    "SHUFFLE_BUFFER_SIZE = 1024\n"
   ]
  }
 ],
 "metadata": {
  "kernelspec": {
   "display_name": "Python 3.10.0 64-bit",
   "language": "python",
   "name": "python3"
  },
  "language_info": {
   "codemirror_mode": {
    "name": "ipython",
    "version": 3
   },
   "file_extension": ".py",
   "mimetype": "text/x-python",
   "name": "python",
   "nbconvert_exporter": "python",
   "pygments_lexer": "ipython3",
   "version": "3.10.0"
  },
  "orig_nbformat": 4,
  "vscode": {
   "interpreter": {
    "hash": "c8f9bc9b1a393cc7b2412be80d4bb029fa1a63170f93c462609a508130b50d84"
   }
  }
 },
 "nbformat": 4,
 "nbformat_minor": 2
}
